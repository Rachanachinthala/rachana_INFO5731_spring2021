{
 "cells": [
  {
   "cell_type": "markdown",
   "metadata": {},
   "source": [
    "## The third In-class-exercise (9/16/2020, 20 points in total)"
   ]
  },
  {
   "cell_type": "markdown",
   "metadata": {},
   "source": [
    "The purpose of this exercise is to under users' information needs, then collect the data for analysis."
   ]
  },
  {
   "cell_type": "markdown",
   "metadata": {},
   "source": [
    "Question 1 (8 points): Describe an interesting research question (or practical question) you have in mind, what kind of data should be collected to answer the question(s)? How many data needed for the analysis? The detail steps for collecting and save the data. "
   ]
  },
  {
   "cell_type": "code",
   "execution_count": null,
   "metadata": {},
   "outputs": [],
   "source": [
    "# Your answer here (no code for this question, write down your answer as detail as possible for the above questions):\n",
    "\n",
    "'''\n",
    "Please write you answer here:\n",
    "My research Question: \n",
    "Finding reviews and ratings of Poco C3 Arctic Blue 64Gb mobile which is available on flipkart. \n",
    "There are more than 6000 reviews and ratings for this product.\n",
    "\n",
    "Steps: \n",
    "I have used beautiful soup module to parse the data in the webpage. \n",
    "As I wanted to know the reviews and ratings given by customers, \n",
    "I extracted them with the help of inspect option by identifying the class of reviews and ratings. \n",
    "Created an empty list for ratings and reviews to append those extracted values.\n",
    "The url is provided dynamically inside a for loop to access each page. \n",
    "For loop is used and iterated in the range of 54 to get 500 reviews as each page has 10 reviews. \n",
    "Then I created a dataframe and then converted into csv file.\n",
    "\n",
    "BeautifulSoup is used to parse the data from webpage.\n",
    "Then, Inspect option is used to extract review title and ratings.\n",
    "Two empty lists are created to hold the data from website(reviews, ratings)\n",
    "A loop is created for the url.\n",
    " iteration(for loop) is performed, in the range of 60.\n",
    " The created dataframe is converted to csv file.\n",
    "'''"
   ]
  },
  {
   "cell_type": "markdown",
   "metadata": {},
   "source": [
    "Question 2 (12 points): Write python code to collect 500 items of the data you plan to collect above."
   ]
  },
  {
   "cell_type": "code",
   "execution_count": 6,
   "metadata": {},
   "outputs": [
    {
     "name": "stdout",
     "output_type": "stream",
     "text": [
      "Requirement already satisfied: beautifulsoup4 in c:\\users\\racha\\.conda\\lib\\site-packages (4.9.1)\n",
      "Requirement already satisfied: soupsieve>1.2 in c:\\users\\racha\\.conda\\lib\\site-packages (from beautifulsoup4) (2.0.1)\n",
      "Requirement already satisfied: lxml in c:\\users\\racha\\.conda\\lib\\site-packages (4.5.2)\n",
      "Requirement already satisfied: requests in c:\\users\\racha\\.conda\\lib\\site-packages (2.24.0)\n",
      "Requirement already satisfied: idna<3,>=2.5 in c:\\users\\racha\\.conda\\lib\\site-packages (from requests) (2.10)\n",
      "Requirement already satisfied: certifi>=2017.4.17 in c:\\users\\racha\\.conda\\lib\\site-packages (from requests) (2020.6.20)\n",
      "Requirement already satisfied: chardet<4,>=3.0.2 in c:\\users\\racha\\.conda\\lib\\site-packages (from requests) (3.0.4)\n",
      "Requirement already satisfied: urllib3!=1.25.0,!=1.25.1,<1.26,>=1.21.1 in c:\\users\\racha\\.conda\\lib\\site-packages (from requests) (1.25.9)\n"
     ]
    }
   ],
   "source": [
    "# You code here (Please add comments in the code):\n",
    "\n",
    "!pip3 install beautifulsoup4\n",
    "!pip3 install lxml\n",
    "!pip3 install requests\n"
   ]
  },
  {
   "cell_type": "code",
   "execution_count": 11,
   "metadata": {},
   "outputs": [
    {
     "name": "stdout",
     "output_type": "stream",
     "text": [
      "Length of data frame:  590\n"
     ]
    },
    {
     "data": {
      "text/html": [
       "<div>\n",
       "<style scoped>\n",
       "    .dataframe tbody tr th:only-of-type {\n",
       "        vertical-align: middle;\n",
       "    }\n",
       "\n",
       "    .dataframe tbody tr th {\n",
       "        vertical-align: top;\n",
       "    }\n",
       "\n",
       "    .dataframe thead th {\n",
       "        text-align: right;\n",
       "    }\n",
       "</style>\n",
       "<table border=\"1\" class=\"dataframe\">\n",
       "  <thead>\n",
       "    <tr style=\"text-align: right;\">\n",
       "      <th></th>\n",
       "      <th>Title</th>\n",
       "      <th>Customer_Rating</th>\n",
       "    </tr>\n",
       "  </thead>\n",
       "  <tbody>\n",
       "    <tr>\n",
       "      <th>0</th>\n",
       "      <td>Good choice</td>\n",
       "      <td>4</td>\n",
       "    </tr>\n",
       "    <tr>\n",
       "      <th>1</th>\n",
       "      <td>Delightful</td>\n",
       "      <td>4</td>\n",
       "    </tr>\n",
       "    <tr>\n",
       "      <th>2</th>\n",
       "      <td>Delightful</td>\n",
       "      <td>4</td>\n",
       "    </tr>\n",
       "    <tr>\n",
       "      <th>3</th>\n",
       "      <td>Classy product</td>\n",
       "      <td>5</td>\n",
       "    </tr>\n",
       "    <tr>\n",
       "      <th>4</th>\n",
       "      <td>Good choice</td>\n",
       "      <td>4</td>\n",
       "    </tr>\n",
       "    <tr>\n",
       "      <th>...</th>\n",
       "      <td>...</td>\n",
       "      <td>...</td>\n",
       "    </tr>\n",
       "    <tr>\n",
       "      <th>585</th>\n",
       "      <td>Best in the market!</td>\n",
       "      <td>5</td>\n",
       "    </tr>\n",
       "    <tr>\n",
       "      <th>586</th>\n",
       "      <td>Mind-blowing purchase</td>\n",
       "      <td>5</td>\n",
       "    </tr>\n",
       "    <tr>\n",
       "      <th>587</th>\n",
       "      <td>Great product</td>\n",
       "      <td>5</td>\n",
       "    </tr>\n",
       "    <tr>\n",
       "      <th>588</th>\n",
       "      <td>Just wow!</td>\n",
       "      <td>5</td>\n",
       "    </tr>\n",
       "    <tr>\n",
       "      <th>589</th>\n",
       "      <td>Delightful</td>\n",
       "      <td>4</td>\n",
       "    </tr>\n",
       "  </tbody>\n",
       "</table>\n",
       "<p>590 rows × 2 columns</p>\n",
       "</div>"
      ],
      "text/plain": [
       "                     Title Customer_Rating\n",
       "0              Good choice               4\n",
       "1               Delightful               4\n",
       "2               Delightful               4\n",
       "3           Classy product               5\n",
       "4              Good choice               4\n",
       "..                     ...             ...\n",
       "585    Best in the market!               5\n",
       "586  Mind-blowing purchase               5\n",
       "587          Great product               5\n",
       "588              Just wow!               5\n",
       "589             Delightful               4\n",
       "\n",
       "[590 rows x 2 columns]"
      ]
     },
     "execution_count": 11,
     "metadata": {},
     "output_type": "execute_result"
    }
   ],
   "source": [
    "from bs4 import BeautifulSoup\n",
    "import requests\n",
    "import pandas as py\n",
    "Title = [] \n",
    "Customer_Rating =[] \n",
    "for pg_no in range(60):\n",
    "  url = \"https://www.flipkart.com/poco-c3-arctic-blue-64-gb/product-reviews/itm7f632fdb49b3b?pid=MOBFVQJ5NV9ZSYEF&lid=LSTMOBFVQJ5NV9ZSYEFDNRK58&marketplace=FLIPKART\"+ str(pg_no) # providing link for website dynamically\n",
    "  page = requests.get(url) \n",
    "  page_soup = BeautifulSoup(page.text, 'html.parser') # creating beautiful soup class to parse the page\n",
    "  #getting details by using the class name\n",
    "  Reviews = page_soup.find_all(class_='_2-N8zT') \n",
    "  Ratings = page_soup.find_all(class_='_3LWZlK _1BLPMq') \n",
    "  for title, rat in zip(Reviews, Ratings) :\n",
    "      Title.append(title.text) #appending extracted values into the list\n",
    "      Customer_Rating.append(rat.text)\n",
    "df = py.DataFrame(list(zip(Title, Customer_Rating)), columns =['Title', 'Customer_Rating'])  #creating dataframe and then converting into csv file\n",
    "print(\"Length of data frame: \",len(df))\n",
    "df.to_csv('Ratings.csv', index=False)\n",
    "df\n"
   ]
  },
  {
   "cell_type": "code",
   "execution_count": null,
   "metadata": {},
   "outputs": [],
   "source": []
  }
 ],
 "metadata": {
  "kernelspec": {
   "display_name": "Python 3",
   "language": "python",
   "name": "python3"
  },
  "language_info": {
   "codemirror_mode": {
    "name": "ipython",
    "version": 3
   },
   "file_extension": ".py",
   "mimetype": "text/x-python",
   "name": "python",
   "nbconvert_exporter": "python",
   "pygments_lexer": "ipython3",
   "version": "3.7.6"
  }
 },
 "nbformat": 4,
 "nbformat_minor": 2
}
