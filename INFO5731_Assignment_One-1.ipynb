{
 "cells": [
  {
   "cell_type": "markdown",
   "metadata": {
    "colab_type": "text",
    "id": "view-in-github"
   },
   "source": [
    "<a href=\"https://colab.research.google.com/github/unt-iialab/INFO5731_Spring2020/blob/master/Assignments/INFO5731_Assignment_One.ipynb\" target=\"_parent\"><img src=\"https://colab.research.google.com/assets/colab-badge.svg\" alt=\"Open In Colab\"/></a>"
   ]
  },
  {
   "cell_type": "markdown",
   "metadata": {
    "colab_type": "text",
    "id": "Ryk8D1Q4Wsrp"
   },
   "source": [
    "# **INFO5731 Assignment One**"
   ]
  },
  {
   "cell_type": "markdown",
   "metadata": {
    "colab_type": "text",
    "id": "90_NR8c5XGWc"
   },
   "source": [
    "# Question 1\n",
    "\n",
    "(20 points). Write a Python program to generate 12 random numbers between 1 and 100. Sort the list of numbers in ascending order and print it out. Sort the list of numbers in descending order and print it out. Calculate the average for the group and print it out."
   ]
  },
  {
   "cell_type": "code",
   "execution_count": 21,
   "metadata": {
    "colab": {},
    "colab_type": "code",
    "id": "5QX6bJjGWXY9"
   },
   "outputs": [
    {
     "name": "stdout",
     "output_type": "stream",
     "text": [
      "[93, 28, 95, 84, 62, 50, 98, 1, 32, 31, 59, 15]\n",
      "ascending order: [1, 15, 28, 31, 32, 50, 59, 62, 84, 93, 95, 98]\n",
      "descending order: [98, 95, 93, 84, 62, 59, 50, 32, 31, 28, 15, 1]\n",
      "average of the generated random numbers: 54.0\n"
     ]
    }
   ],
   "source": [
    "# Your code here\n",
    "import random\n",
    "\n",
    "mylist = range(1,100)\n",
    "x = random.sample(mylist,12)#gives 12 random numbers from my list\n",
    "print(x)\n",
    "a= sorted(x)# sorts in ascending order\n",
    "print(\"ascending order:\",  a)\n",
    "b=sorted(x, reverse=True)#sorts in descending order\n",
    "print(\"descending order:\", b)\n",
    "#calculating average of the list x\n",
    "avgofx = sum(x)/len(x)\n",
    "print('average of the generated random numbers:', avgofx)"
   ]
  },
  {
   "cell_type": "markdown",
   "metadata": {
    "colab_type": "text",
    "id": "1F_PZdH9Sh49"
   },
   "source": [
    "# Question 2\n",
    "(25 points). Write a program that will do the following string formatting tasks:\n",
    "\n",
    "(1) Ask the user to enter two sentences.\n",
    "\n",
    "(2) Make each sentence into a list. Each element in the list should correspond to a word in the sentence. For example, if the sentence is \"Alas! Am I alive? This is my first python program\", the program should print out ['Alas, '!', 'Am', 'I', 'alive, '?', 'This', 'is', 'my', 'first', 'python', 'program'].\n",
    "\n",
    "(3) Compare the two sentences. Print out a list of words that occur in both sentences.\n",
    "\n",
    "(4) Remove any punctuation from the sentence and print it back out. It should remove at least the following characters, but it can remove more: period(“.”), comma (“,”), semicolon (“;”), and colon (“:”)\n",
    "\n",
    "(5) Count the number of vowels in the sentences. Print out each vowel and the number of times it appears in the sentences, such as: a:2, e:1, i:0, etc"
   ]
  },
  {
   "cell_type": "code",
   "execution_count": 1,
   "metadata": {
    "colab": {},
    "colab_type": "code",
    "id": "Y0oOSlsOS0cq"
   },
   "outputs": [
    {
     "name": "stdout",
     "output_type": "stream",
     "text": [
      "enter first sentence:Hello ! I am Rachana . \n",
      "['Hello', '!', 'I', 'am', 'Rachana', '.']\n",
      "enter second sentence:Alas ! Am I alive ? This is my first python program\n",
      "['Alas', '!', 'Am', 'I', 'alive', '?', 'This', 'is', 'my', 'first', 'python', 'program']\n",
      "words occurind in both lists: ['!', 'I']\n"
     ]
    }
   ],
   "source": [
    "# Your code here\n",
    "a=input(\"enter first sentence:\" )\n",
    "i= list(a.split())# gives the list of charatcterss\n",
    "print(i)\n",
    "b=input(\"enter second sentence:\" )\n",
    "j= list(b.split())\n",
    "print(j)\n",
    "contained = [x for x in i if x in j]\n",
    "print(\"words occurind in both lists:\", contained)# gives common words \n",
    "#removing punctuation\n",
    "punctuation= ',:;.?!'\n",
    "for x in a:\n",
    "    if x in punctuation:\n",
    "        a= a.replace(x,\"\")\n",
    "\n",
    "for x in b:\n",
    "    if x in punctuation:\n",
    "        b= b.replace(x,\"\")\n",
    "        \n",
    "\n",
    "  "
   ]
  },
  {
   "cell_type": "code",
   "execution_count": 2,
   "metadata": {},
   "outputs": [
    {
     "name": "stdout",
     "output_type": "stream",
     "text": [
      "Hello  I am Rachana  \n",
      "Alas  Am I alive  This is my first python program\n"
     ]
    }
   ],
   "source": [
    "print(a)\n",
    "print(b)"
   ]
  },
  {
   "cell_type": "code",
   "execution_count": 9,
   "metadata": {},
   "outputs": [
    {
     "name": "stdout",
     "output_type": "stream",
     "text": [
      "hello  i am rachana  alas  am i alive  this is my first python program\n"
     ]
    },
    {
     "data": {
      "text/plain": [
       "{'a': 9, 'e': 2, 'i': 6, 'o': 3, 'u': 0}"
      ]
     },
     "execution_count": 9,
     "metadata": {},
     "output_type": "execute_result"
    }
   ],
   "source": [
    "#counting the frequency of vowles in both the sentences\n",
    "c=a+b\n",
    "c=c.lower()\n",
    "print(c)\n",
    "c_vowel={}\n",
    "for i in \"aeiou\":\n",
    "    count=c.count(i)\n",
    "    c_vowel[i]=count\n",
    "c_vowel"
   ]
  },
  {
   "cell_type": "markdown",
   "metadata": {
    "colab_type": "text",
    "id": "CmFoI4jDS9nx"
   },
   "source": [
    "# Question 3 \n",
    "\n",
    "(15 points). The formula that describes the volume V of a sphere with radius r is the following:\n",
    "\n",
    "$ V=\\frac{4}{3}\\ast\\ \\pi\\ast\\ r^3 $\n",
    "\n",
    "Write a program to calculate the value of V when r is in the range of 1–10. Output the result in the following format:\n",
    "\n",
    "\tr\tV\n",
    "\t1\t…\n",
    "\t2\t…\n",
    "\t3\t…\n"
   ]
  },
  {
   "cell_type": "code",
   "execution_count": 5,
   "metadata": {
    "colab": {},
    "colab_type": "code",
    "id": "pEyqeioAT95b"
   },
   "outputs": [
    {
     "name": "stdout",
     "output_type": "stream",
     "text": [
      "r\tV\n",
      "\n",
      "1 \t 4.1887902047863905 \n",
      "\n",
      "2 \t 33.510321638291124 \n",
      "\n",
      "3 \t 113.09733552923254 \n",
      "\n",
      "4 \t 268.082573106329 \n",
      "\n",
      "5 \t 523.5987755982989 \n",
      "\n",
      "6 \t 904.7786842338603 \n",
      "\n",
      "7 \t 1436.7550402417319 \n",
      "\n",
      "8 \t 2144.660584850632 \n",
      "\n",
      "9 \t 3053.6280592892786 \n",
      "\n",
      "10 \t 4188.790204786391 \n",
      "\n"
     ]
    }
   ],
   "source": [
    "# Your code here\n",
    "\n",
    "pi = 3.1415926535897931\n",
    "\n",
    "print('r\\tV\\n')\n",
    "r=1\n",
    "while r<=10:\n",
    "    V= 4.0/3.0*pi* r**3\n",
    "    print(r,'\\t',V,'\\n')\n",
    "    r+=1"
   ]
  },
  {
   "cell_type": "code",
   "execution_count": 0,
   "metadata": {
    "colab": {},
    "colab_type": "code",
    "id": "pMCr3l8tnu0j"
   },
   "outputs": [],
   "source": []
  },
  {
   "cell_type": "markdown",
   "metadata": {
    "colab_type": "text",
    "id": "z3tBE7E-Xn5X"
   },
   "source": [
    "# Question 4\n",
    "\n",
    "(40 points). In the field of Data Science, data is often formatted as a comma-delimited (CSV) file, where each line in a file corresponds to a field's value. Refer to Chapter 9 (p. 106) for more information on comma-delimited files. To answer this question, you will need to download the file [Assignment1_denton_housing.csv](https://github.com/unt-iialab/info5731_spring2021/blob/main/assignment/Assignment1_denton_housing.csv) included with this assignment. The file [Assignment1_denton_housing.csv](https://github.com/unt-iialab/info5731_spring2021/blob/main/assignment/Assignment1_denton_housing.csv) contains statistics about housing in the city of Denton from 2008 to 2014. Write a program to implement the following questions.\n",
    "\n",
    "(1) (10 pts) Calculate the difference in the number of Occupied Housing Units from year to year and print it. The difference must be calculated for the consecutive years such as 2008-2009, 2009-2010 etc. Finally, print the values in the ascending order.\n",
    "\n",
    "(2) (10 pts) For all the years, calculate the percentage of housing units which are vacant an occupied. Print the results in the following format:\n",
    "\n",
    "Year Vacant Housing Units Occupied Housing Units\n",
    "\n",
    "    2008  30%   70%                          \n",
    "\t2009 ----- -----\n",
    "\t2010 ----- -----\n",
    "    2011 ----- -----\n",
    "\t2012 ----- -----\n",
    "    2013 ----- -----\n",
    "\t2014 ----- -----\n",
    "  \n",
    "  \n",
    "\n",
    "(3) (10 pts) Calculate and print the valued and years in which the highest number of housing units were vacant and occupied. Print the results in the following format:  \n",
    "\n",
    "                              Year\tValue\n",
    "\tVacant Housing Units\t  -----   -----\n",
    "\tOccupied Housing Units\t-----   -----\n",
    "\n",
    "(4) (10 pts) Calculate the harmonic mean of the total housing units and print it out. You can find the information about harmonic mean here: https://ncalculators.com/statistics/harmonic-mean-calculator.htm"
   ]
  },
  {
   "cell_type": "code",
   "execution_count": 9,
   "metadata": {
    "colab": {},
    "colab_type": "code",
    "id": "lqGYuHBhcsRH"
   },
   "outputs": [
    {
     "name": "stdout",
     "output_type": "stream",
     "text": [
      "years\t\t   Difference\n",
      "2008 - 2009             -795\n",
      "2009 - 2010             5091\n",
      "2010 - 2011             -303\n",
      "2011 - 2012             1404\n",
      "2012 - 2013             1565\n",
      "2013 - 2014             2622\n",
      "\n",
      "\n",
      "The difference in occupied units for consecutive years arranged in ascending order:\n",
      "\n",
      "       years  Difference\n",
      "0  2008-2009        -795\n",
      "2  2010-2011        -303\n",
      "3  2011-2012        1404\n",
      "4  2012-2013        1565\n",
      "5  2013-2014        2622\n",
      "1  2009-2010        5091\n"
     ]
    }
   ],
   "source": [
    "# Your code here\n",
    "#4(1)\n",
    "import pandas as pd\n",
    "my_dataframe=pd.read_csv(r\"C:\\Users\\racha\\Assignment1_denton_housing.csv\",index_col=\"year\")\n",
    "my_dataframe.sort_index(axis=0,ascending=True,inplace=True)\n",
    "my_dataframe2=my_dataframe[my_dataframe.title_field==\"Occupied Housing Units\"].sort_index(axis=0,ascending=True)\n",
    "my_dataframe2=my_dataframe2.reset_index()\n",
    "\n",
    "#Calculating the difference in the number of Occupied Housing Units for the consecutive years.\n",
    "x=my_dataframe2[[\"year\",\"value\"]].values\n",
    "\n",
    "#Finding the difference in number of occupied housing units\n",
    "difference_in_occupied=[]\n",
    "for i in range(len(x)-1):\n",
    "  difference_in_occupied.append(x[i+1][1]-x[i][1])\n",
    "difference_in_occupied\n",
    "\n",
    "#Printing the 'difference' value for consecutive years\n",
    "print(\"years\\t\\t   Difference\")\n",
    "for i in range(2008,2014):\n",
    "  print(i,\"-\",i+1,\"           \",difference_in_occupied[i-2008])\n",
    "\n",
    "print(\"\\n\")\n",
    "\n",
    "#Printing the ascending order\n",
    "\n",
    "data_2 = [['2008-2009', -795],['2009-2010', 5091],['2010-2011', -303],['2011-2012', 1404],['2012-2013', 1565],['2013-2014', 2622]]  \n",
    "B = pd.DataFrame(data_2, columns = ['years',   'Difference'])\n",
    "sorted_difference = B.sort_values('Difference') \n",
    "\n",
    "print(\"The difference in occupied units for consecutive years arranged in ascending order:\\n\")\n",
    "\n",
    "print(sorted_difference)\n"
   ]
  },
  {
   "cell_type": "code",
   "execution_count": 10,
   "metadata": {},
   "outputs": [
    {
     "name": "stdout",
     "output_type": "stream",
     "text": [
      "Year\tVacant Units\t Occupied Units\n",
      "2008 \t\t 11% \t\t 89%\n",
      "2009 \t\t 9% \t\t 91%\n",
      "2010 \t\t 8% \t\t 92%\n",
      "2011 \t\t 9% \t\t 91%\n",
      "2012 \t\t 7% \t\t 93%\n",
      "2013 \t\t 9% \t\t 91%\n",
      "2014 \t\t 6% \t\t 94%\n"
     ]
    }
   ],
   "source": [
    "#4(2):\n",
    "my_dataframe.reset_index(inplace=True)\n",
    "occupied=[]\n",
    "vacant=[]\n",
    "\n",
    "#Finding the number of vacant and occupied housing units\n",
    "for i in range(2008,2015):\n",
    "  occupied.append((my_dataframe[(my_dataframe[\"year\"]==i) & (my_dataframe[\"title_field\"]==\"Occupied Housing Units\")].value.values)/(my_dataframe[(my_dataframe[\"year\"]==i) & (my_dataframe[\"title_field\"]==\"Total Housing Units\")].value.values))\n",
    "  vacant.append((my_dataframe[(my_dataframe[\"year\"]==i) & (my_dataframe[\"title_field\"]==\"Vacant Housing Units\")].value.values)/(my_dataframe[(my_dataframe[\"year\"]==i) & (my_dataframe[\"title_field\"]==\"Total Housing Units\")].value.values))\n",
    "\n",
    "#Printing the percentage of housing units which are vacant and occupied\n",
    "print(\"Year\\tVacant Units\\t Occupied Units\")\n",
    "for i in range(2008,2015):\n",
    "  print(i,\"\\t\\t\",\"{0:.0f}%\".format(vacant[i-2008][0]*100),\"\\t\\t\",\"{0:.0f}%\".format(occupied[i-2008][0]*100))        "
   ]
  },
  {
   "cell_type": "code",
   "execution_count": 14,
   "metadata": {},
   "outputs": [
    {
     "name": "stdout",
     "output_type": "stream",
     "text": [
      "\t\t Year\t Value\n",
      "Occupied Units \t 2014 \t 46295\n",
      "Vacant Units \t 2008 \t 4483\n"
     ]
    }
   ],
   "source": [
    "#4(3):\n",
    "a=[]\n",
    "b=[]\n",
    "\n",
    "for i in range(2008,2015):\n",
    "  a.append(occupied[i-2008][0])\n",
    "  b.append(vacant[i-2008][0])\n",
    "\n",
    "print(\"\\t\\t Year\\t Value\")\n",
    "\n",
    "#Highest number of housing units were vacant and occupied\n",
    "\n",
    "for i in enumerate(occupied,start=2008):\n",
    "  if(i[1][0]==max(a)):\n",
    "    print(\"Occupied Units \\t\",i[0],\"\\t\",(my_dataframe[(my_dataframe.year==i[0])&(my_dataframe.title_field==\"Occupied Housing Units\")].value.values)[0])\n",
    "    break\n",
    "for i in enumerate(vacant,start=2008):\n",
    "  if(i[1][0]==max(b)):\n",
    "    print(\"Vacant Units \\t\",i[0],\"\\t\",(my_dataframe[(my_dataframe.year==i[0])&(my_dataframe.title_field==\"Vacant Housing Units\")].value.values)[0])\n",
    "    break\n",
    "  "
   ]
  },
  {
   "cell_type": "code",
   "execution_count": 16,
   "metadata": {},
   "outputs": [
    {
     "name": "stdout",
     "output_type": "stream",
     "text": [
      "The harmonic mean:\n",
      "\n"
     ]
    },
    {
     "data": {
      "text/plain": [
       "44398.28543969185"
      ]
     },
     "execution_count": 16,
     "metadata": {},
     "output_type": "execute_result"
    }
   ],
   "source": [
    "#4(4):\n",
    "from scipy import stats\n",
    "\n",
    "my_dataframe[my_dataframe.title_field==\"Total Housing Units\"].value.values\n",
    "print(\"The harmonic mean:\\n\")\n",
    "stats.hmean(my_dataframe[my_dataframe.title_field==\"Total Housing Units\"].value.values)"
   ]
  },
  {
   "cell_type": "code",
   "execution_count": null,
   "metadata": {},
   "outputs": [],
   "source": []
  }
 ],
 "metadata": {
  "colab": {
   "authorship_tag": "ABX9TyOAjsNCkNulTpzgRQbHdy3f",
   "collapsed_sections": [],
   "include_colab_link": true,
   "name": "INFO5731_Assignment_One.ipynb",
   "provenance": []
  },
  "kernelspec": {
   "display_name": "Python 3",
   "language": "python",
   "name": "python3"
  },
  "language_info": {
   "codemirror_mode": {
    "name": "ipython",
    "version": 3
   },
   "file_extension": ".py",
   "mimetype": "text/x-python",
   "name": "python",
   "nbconvert_exporter": "python",
   "pygments_lexer": "ipython3",
   "version": "3.7.6"
  }
 },
 "nbformat": 4,
 "nbformat_minor": 1
}
