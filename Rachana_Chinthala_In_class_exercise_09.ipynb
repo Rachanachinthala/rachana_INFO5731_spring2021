{
  "nbformat": 4,
  "nbformat_minor": 0,
  "metadata": {
    "kernelspec": {
      "display_name": "Python 3",
      "language": "python",
      "name": "python3"
    },
    "language_info": {
      "codemirror_mode": {
        "name": "ipython",
        "version": 3
      },
      "file_extension": ".py",
      "mimetype": "text/x-python",
      "name": "python",
      "nbconvert_exporter": "python",
      "pygments_lexer": "ipython3",
      "version": "3.7.4"
    },
    "colab": {
      "name": "Rachana_Chinthala_In_class_exercise_09.ipynb",
      "provenance": [],
      "collapsed_sections": [],
      "toc_visible": true,
      "include_colab_link": true
    }
  },
  "cells": [
    {
      "cell_type": "markdown",
      "metadata": {
        "id": "view-in-github",
        "colab_type": "text"
      },
      "source": [
        "<a href=\"https://colab.research.google.com/github/Rachanachinthala/rachana_INFO5731_spring2021/blob/main/Rachana_Chinthala_In_class_exercise_09.ipynb\" target=\"_parent\"><img src=\"https://colab.research.google.com/assets/colab-badge.svg\" alt=\"Open In Colab\"/></a>"
      ]
    },
    {
      "cell_type": "markdown",
      "metadata": {
        "id": "5Tp5rrMfxl1V"
      },
      "source": [
        "# **The ninth in-class-exercise (20 points in total, 11/11/2020)**"
      ]
    },
    {
      "cell_type": "markdown",
      "metadata": {
        "id": "eXKDTSxuxl1e"
      },
      "source": [
        "The purpose of the exercise is to practice different machine learning algorithms for text classification as well as the performance evaluation. In addition, you are requried to conduct *10 fold cross validation (https://scikit-learn.org/stable/modules/cross_validation.html)* in the training. \n",
        "\n",
        "The dataset can be download from here: https://github.com/unt-iialab/INFO5731_FALL2020/blob/master/In_class_exercise/exercise09_datacollection.zip. The dataset contains two files train data and test data for sentiment analysis in IMDB review, it has two categories: 1 represents positive and 0 represents negative. You need to split the training data into training and validate data (80% for training and 20% for validation, https://towardsdatascience.com/train-test-split-and-cross-validation-in-python-80b61beca4b6) and perform 10 fold cross validation while training the classifier. The final trained model was final evaluated on the test data. \n",
        "\n",
        "Algorithms:\n",
        "\n",
        "(1) MultinominalNB\n",
        "\n",
        "(2) SVM \n",
        "\n",
        "(3) KNN \n",
        "\n",
        "(4) Decision tree\n",
        "\n",
        "(5) Random Forest\n",
        "\n",
        "(6) XGBoost\n",
        "\n",
        "Evaluation measurement:\n",
        "\n",
        "(1) Accuracy\n",
        "\n",
        "(2) Recall\n",
        "\n",
        "(3) Precison \n",
        "\n",
        "(4) F-1 score"
      ]
    },
    {
      "cell_type": "code",
      "metadata": {
        "id": "bVEdYHIkxl1g"
      },
      "source": [
        "#Importing necessary libraries\n",
        "\n",
        "import pandas as pd \n",
        "import re \n",
        "import nltk \n",
        "from nltk.corpus import stopwords \n",
        "from nltk.stem.porter import PorterStemmer \n",
        "from sklearn.feature_extraction.text import CountVectorizer\n",
        "import sklearn\n",
        "from sklearn.model_selection import train_test_split\n",
        "import numpy\n",
        "from sklearn.model_selection import KFold\n",
        "from sklearn.feature_extraction.text import TfidfTransformer\n",
        "from sklearn.pipeline import Pipeline\n",
        "from sklearn.naive_bayes import MultinomialNB\n",
        "from sklearn.metrics import accuracy_score, recall_score, precision_score, f1_score\n",
        "from sklearn.svm import LinearSVC\n",
        "from sklearn.neighbors import KNeighborsClassifier\n",
        "from sklearn import tree\n",
        "from sklearn.ensemble import RandomForestClassifier\n",
        "from sklearn.ensemble import GradientBoostingClassifier"
      ],
      "execution_count": 3,
      "outputs": []
    },
    {
      "cell_type": "code",
      "metadata": {
        "id": "TuO4bcAQsXWV"
      },
      "source": [
        "#Loading the Train data and Test data\n",
        "\n",
        "train_data=pd.read_fwf(\"/content/stsa-train.txt\", header=None)\n",
        "train_data= pd.DataFrame(train_data)\n",
        "test_data=pd.read_fwf(\"/content/stsa-test.txt\", header=None)\n",
        "test_data= pd.DataFrame(test_data)"
      ],
      "execution_count": 4,
      "outputs": []
    },
    {
      "cell_type": "code",
      "metadata": {
        "id": "U7C01IWLsXY7"
      },
      "source": [
        "#Now splitting the train_data in to training and validation data\n",
        "\n",
        "del train_data[2]\n",
        "train_data = train_data.rename(columns={0: \"Review\", 1: \"Text\"})\n",
        "del test_data[2]\n",
        "del test_data[3]\n",
        "test_data = test_data.rename(columns={0: \"Review\", 1: \"Text\"})\n",
        "x_train, x_validate, y_train, y_validate = sklearn.model_selection.train_test_split(train_data['Text'], train_data['Review'], train_size=0.8, test_size=0.2)\n",
        "x_train = x_train.to_numpy()\n",
        "y_train = y_train.to_numpy()"
      ],
      "execution_count": 5,
      "outputs": []
    },
    {
      "cell_type": "code",
      "metadata": {
        "id": "_bqf6Rg6sXbl"
      },
      "source": [
        "# Defining K-fold(K=10)\n",
        "my_kf = KFold(n_splits=10)"
      ],
      "execution_count": 6,
      "outputs": []
    },
    {
      "cell_type": "code",
      "metadata": {
        "id": "w0dXCKKnsXfD"
      },
      "source": [
        "# Analysis of Various Algorithms\n",
        "#MultinominalNB:\n",
        "pln = Pipeline([('vect', CountVectorizer()),\n",
        "                     ('tfidf', TfidfTransformer()),\n",
        "                     ('clf', MultinomialNB())])\n",
        "for train_index, test_index in my_kf.split(x_train, y_train):\n",
        "    x_train_k, y_train_k = x_train[train_index], y_train[train_index]\n",
        "    x_test_k, y_test_k = x_train[test_index], y_train[test_index]\n",
        "    MNB_algorithm = pln.fit(x_train_k, y_train_k)\n",
        "pred_validate = MNB_algorithm.predict(x_validate)\n",
        "validation = {'Actual': y_validate, 'Predicted': pred_validate}\n",
        "validation_df = pd.DataFrame(validation, columns = ['Actual', 'Predicted'])"
      ],
      "execution_count": 7,
      "outputs": []
    },
    {
      "cell_type": "code",
      "metadata": {
        "id": "aUSV-BWOtuKQ",
        "colab": {
          "base_uri": "https://localhost:8080/"
        },
        "outputId": "d23f2398-c0a6-4e02-d0c4-2116e7cae7b0"
      },
      "source": [
        "#Evaluation of MultinominalNB:\n",
        "\n",
        "my_final = MNB_algorithm.predict(test_data['Text'])\n",
        "print('Accuracy of MultinomialNB :', (accuracy_score(test_data['Review'], my_final)*100))\n",
        "print('Recall of MultinomialNB :', (recall_score(test_data['Review'], my_final)*100))\n",
        "print('Precision of MultinomialNB :', (accuracy_score(test_data['Review'], my_final)*100))\n",
        "print('F1-score of MultinomialNB :', (f1_score(test_data['Review'], my_final, average='macro')*100))"
      ],
      "execution_count": 8,
      "outputs": [
        {
          "output_type": "stream",
          "text": [
            "Accuracy of MultinomialNB : 80.28555738605162\n",
            "Recall of MultinomialNB : 85.36853685368537\n",
            "Precision of MultinomialNB : 80.28555738605162\n",
            "F1-score of MultinomialNB : 80.23728355493644\n"
          ],
          "name": "stdout"
        }
      ]
    },
    {
      "cell_type": "code",
      "metadata": {
        "id": "_ClVYvMJuMYJ"
      },
      "source": [
        "# Analysis of Various Algorithms\n",
        "#SVM:\n",
        "pln = Pipeline([('vect', CountVectorizer()),\n",
        "                     ('tfidf', TfidfTransformer()),\n",
        "                     ('clf', LinearSVC())])\n",
        "for train_index, test_index in my_kf.split(x_train, y_train):\n",
        "    x_train_k, y_train_k = x_train[train_index], y_train[train_index]\n",
        "    x_test_k, y_test_k = x_train[test_index], y_train[test_index]\n",
        "    SVM_algorithm = pln.fit(x_train_k, y_train_k)\n",
        "pred_validate = SVM_algorithm.predict(x_validate)\n",
        "validation = {'Actual': y_validate, 'Predicted': pred_validate}\n",
        "validation_df = pd.DataFrame(validation, columns = ['Actual', 'Predicted'])"
      ],
      "execution_count": 9,
      "outputs": []
    },
    {
      "cell_type": "code",
      "metadata": {
        "id": "HyKW3hI9uMbB",
        "colab": {
          "base_uri": "https://localhost:8080/"
        },
        "outputId": "9d857802-01a5-42da-85c3-2a46248f206b"
      },
      "source": [
        "#Evaluation of SVM:\n",
        "my_final = SVM_algorithm.predict(test_data['Text'])\n",
        "print(' Accuracy of SVM :', (accuracy_score(test_data['Review'], my_final)*100))\n",
        "print('Recall of SVM :', (recall_score(test_data['Review'], my_final)*100))\n",
        "print(' Precision of SVM :', (accuracy_score(test_data['Review'], my_final)*100))\n",
        "print('F1-score of SVM :', (f1_score(test_data['Review'], my_final, average='macro')*100))"
      ],
      "execution_count": 10,
      "outputs": [
        {
          "output_type": "stream",
          "text": [
            " Accuracy of SVM : 79.79132344865458\n",
            "Recall of SVM : 81.2981298129813\n",
            " Precision of SVM : 79.79132344865458\n",
            "F1-score of SVM : 79.78751384441651\n"
          ],
          "name": "stdout"
        }
      ]
    },
    {
      "cell_type": "code",
      "metadata": {
        "id": "G46ewW6puMeA"
      },
      "source": [
        "# Analysis of Various Algorithms\n",
        "#KNN:\n",
        "pln = Pipeline([('vect', CountVectorizer()),\n",
        "                     ('tfidf', TfidfTransformer()),\n",
        "                     ('clf', KNeighborsClassifier())])\n",
        "for train_index, test_index in my_kf.split(x_train, y_train):\n",
        "    x_train_k, y_train_k = x_train[train_index], y_train[train_index]\n",
        "    x_test_k, y_test_k = x_train[test_index], y_train[test_index]\n",
        "    KNN_algorithm = pln.fit(x_train_k, y_train_k)\n",
        "pred_validate = KNN_algorithm.predict(x_validate)\n",
        "validation = {'Actual': y_validate, 'Predicted': pred_validate}\n",
        "validation_df = pd.DataFrame(validation, columns = ['Actual', 'Predicted'])"
      ],
      "execution_count": 11,
      "outputs": []
    },
    {
      "cell_type": "code",
      "metadata": {
        "id": "vviVLSHLuMg-",
        "colab": {
          "base_uri": "https://localhost:8080/"
        },
        "outputId": "a4987492-9da8-4356-9efa-41dde6506dd3"
      },
      "source": [
        "#Evaluation of KNN:\n",
        "my_final = KNN_algorithm.predict(test_data['Text'])\n",
        "print(' Accuracy of KNN :', (accuracy_score(test_data['Review'], my_final)*100))\n",
        "print('Recall of KNN :', (recall_score(test_data['Review'], my_final)*100))\n",
        "print(' Precision of KNN :', (accuracy_score(test_data['Review'], my_final)*100))\n",
        "print('F1-score of KNN :', (f1_score(test_data['Review'], my_final, average='macro')*100))"
      ],
      "execution_count": 12,
      "outputs": [
        {
          "output_type": "stream",
          "text": [
            " Accuracy of KNN : 72.8720483250961\n",
            "Recall of KNN : 76.017601760176\n",
            " Precision of KNN : 72.8720483250961\n",
            "F1-score of KNN : 72.84727873333543\n"
          ],
          "name": "stdout"
        }
      ]
    },
    {
      "cell_type": "code",
      "metadata": {
        "id": "QfMgHi8Ixrse"
      },
      "source": [
        "# Analysis of Various Algorithms\n",
        "#Decision Tree:\n",
        "pln = Pipeline([('vect', CountVectorizer()),\n",
        "                     ('tfidf', TfidfTransformer()),\n",
        "                     ('clf', tree.DecisionTreeClassifier())])\n",
        "for train_index, test_index in my_kf.split(x_train, y_train):\n",
        "    x_train_k, y_train_k = x_train[train_index], y_train[train_index]\n",
        "    x_test_k, y_test_k = x_train[test_index], y_train[test_index]\n",
        "    DT_algorithm = pln.fit(x_train_k, y_train_k)\n",
        "pred_validate = DT_algorithm.predict(x_validate)\n",
        "validation = {'Actual': y_validate, 'Predicted': pred_validate}\n",
        "validation_df = pd.DataFrame(validation, columns = ['Actual', 'Predicted'])"
      ],
      "execution_count": 13,
      "outputs": []
    },
    {
      "cell_type": "code",
      "metadata": {
        "id": "sdvjaTTIyUeL",
        "colab": {
          "base_uri": "https://localhost:8080/"
        },
        "outputId": "f23f16ca-bebf-4c06-b799-74c2f920b864"
      },
      "source": [
        "#Evaluation of Decision Tree:\n",
        "my_final = DT_algorithm.predict(test_data['Text'])\n",
        "print(' Accuracy of Decision Tree :', (accuracy_score(test_data['Review'], my_final)*100))\n",
        "print('Recall of Decision Tree :', (recall_score(test_data['Review'], my_final)*100))\n",
        "print(' Precision of Decision Tree :', (accuracy_score(test_data['Review'], my_final)*100))\n",
        "print('F1-score of Decision Tree :', (f1_score(test_data['Review'], my_final, average='macro')*100))"
      ],
      "execution_count": 14,
      "outputs": [
        {
          "output_type": "stream",
          "text": [
            " Accuracy of Decision Tree : 61.44975288303131\n",
            "Recall of Decision Tree : 63.91639163916392\n",
            " Precision of Decision Tree : 61.44975288303131\n",
            "F1-score of Decision Tree : 61.42824555728817\n"
          ],
          "name": "stdout"
        }
      ]
    },
    {
      "cell_type": "code",
      "metadata": {
        "id": "J-tT7YEYxrvv"
      },
      "source": [
        "# Analysis of Various Algorithms\n",
        "#Random Forest:\n",
        "pln = Pipeline([('vect', CountVectorizer()),\n",
        "                     ('tfidf', TfidfTransformer()),\n",
        "                     ('clf', RandomForestClassifier(n_estimators=100))])\n",
        "for train_index, test_index in my_kf.split(x_train, y_train):\n",
        "    x_train_k, y_train_k = x_train[train_index], y_train[train_index]\n",
        "    x_test_k, y_test_k = x_train[test_index], y_train[test_index]\n",
        "    RF_algorithm = pln.fit(x_train_k, y_train_k)\n",
        "pred_validate = RF_algorithm.predict(x_validate)\n",
        "validation = {'Actual': y_validate, 'Predicted': pred_validate}\n",
        "validation_df = pd.DataFrame(validation, columns = ['Actual', 'Predicted'])"
      ],
      "execution_count": 15,
      "outputs": []
    },
    {
      "cell_type": "code",
      "metadata": {
        "id": "_1j1k7S1zBBw",
        "colab": {
          "base_uri": "https://localhost:8080/"
        },
        "outputId": "56887f47-e23a-4bda-9ce5-1966fe048d8a"
      },
      "source": [
        "#Evaluation of Random Forest:\n",
        "my_final = RF_algorithm.predict(test_data['Text'])\n",
        "print(' Accuracy of Random Forest :', (accuracy_score(test_data['Review'], my_final)*100))\n",
        "print('Recall of Random Forest :', (recall_score(test_data['Review'], my_final)*100))\n",
        "print(' Precision of Random Forest :', (accuracy_score(test_data['Review'], my_final)*100))\n",
        "print('F1-score of Random Forest :', (f1_score(test_data['Review'], my_final, average='macro')*100))"
      ],
      "execution_count": 16,
      "outputs": [
        {
          "output_type": "stream",
          "text": [
            " Accuracy of Random Forest : 71.77375068643602\n",
            "Recall of Random Forest : 75.9075907590759\n",
            " Precision of Random Forest : 71.77375068643602\n",
            "F1-score of Random Forest : 71.72831705083378\n"
          ],
          "name": "stdout"
        }
      ]
    },
    {
      "cell_type": "code",
      "metadata": {
        "id": "OaviQYhuxr4D",
        "colab": {
          "base_uri": "https://localhost:8080/"
        },
        "outputId": "5c55ab99-d408-4f3e-84bc-3dbbac2c665c"
      },
      "source": [
        "# Analysis of Various Algorithms\n",
        "#XGBoost:\n",
        "pln = Pipeline([('vect', CountVectorizer()),\n",
        "                     ('tfidf', TfidfTransformer()),\n",
        "                     ('clf', GradientBoostingClassifier(n_estimators=20,verbose=2))])\n",
        "for train_index, test_index in my_kf.split(x_train, y_train):\n",
        "    x_train_k, y_train_k = x_train[train_index], y_train[train_index]\n",
        "    x_test_k, y_test_k = x_train[test_index], y_train[test_index]\n",
        "    \n",
        "    XGB_algorithm = pln.fit(x_train_k, y_train_k)\n",
        "pred_validate = XGB_algorithm.predict(x_validate)\n",
        "validation = {'Actual': y_validate, 'Predicted': pred_validate}\n",
        "validation_df = pd.DataFrame(validation, columns = ['Actual', 'Predicted'])"
      ],
      "execution_count": 17,
      "outputs": [
        {
          "output_type": "stream",
          "text": [
            "      Iter       Train Loss   Remaining Time \n",
            "         1           1.3769            0.66s\n",
            "         2           1.3694            0.60s\n",
            "         3           1.3627            0.56s\n",
            "         4           1.3566            0.52s\n",
            "         5           1.3511            0.49s\n",
            "         6           1.3460            0.45s\n",
            "         7           1.3410            0.43s\n",
            "         8           1.3365            0.39s\n",
            "         9           1.3322            0.35s\n",
            "        10           1.3285            0.32s\n",
            "        11           1.3246            0.29s\n",
            "        12           1.3212            0.26s\n",
            "        13           1.3182            0.22s\n",
            "        14           1.3144            0.19s\n",
            "        15           1.3110            0.16s\n",
            "        16           1.3080            0.13s\n",
            "        17           1.3053            0.10s\n",
            "        18           1.3024            0.06s\n",
            "        19           1.2999            0.03s\n",
            "        20           1.2974            0.00s\n",
            "      Iter       Train Loss   Remaining Time \n",
            "         1           1.3762            0.60s\n",
            "         2           1.3688            0.56s\n",
            "         3           1.3625            0.54s\n",
            "         4           1.3565            0.50s\n",
            "         5           1.3514            0.47s\n",
            "         6           1.3471            0.43s\n",
            "         7           1.3426            0.41s\n",
            "         8           1.3386            0.37s\n",
            "         9           1.3348            0.34s\n",
            "        10           1.3312            0.31s\n",
            "        11           1.3274            0.28s\n",
            "        12           1.3240            0.25s\n",
            "        13           1.3210            0.22s\n",
            "        14           1.3174            0.19s\n",
            "        15           1.3138            0.15s\n",
            "        16           1.3111            0.12s\n",
            "        17           1.3070            0.09s\n",
            "        18           1.3040            0.06s\n",
            "        19           1.3011            0.03s\n",
            "        20           1.2984            0.00s\n",
            "      Iter       Train Loss   Remaining Time \n",
            "         1           1.3771            0.62s\n",
            "         2           1.3701            0.59s\n",
            "         3           1.3642            0.55s\n",
            "         4           1.3584            0.52s\n",
            "         5           1.3534            0.52s\n",
            "         6           1.3487            0.49s\n",
            "         7           1.3440            0.45s\n",
            "         8           1.3395            0.41s\n",
            "         9           1.3356            0.37s\n",
            "        10           1.3317            0.33s\n",
            "        11           1.3278            0.30s\n",
            "        12           1.3246            0.26s\n",
            "        13           1.3211            0.23s\n",
            "        14           1.3182            0.19s\n",
            "        15           1.3151            0.16s\n",
            "        16           1.3115            0.13s\n",
            "        17           1.3085            0.10s\n",
            "        18           1.3055            0.06s\n",
            "        19           1.3025            0.03s\n",
            "        20           1.2994            0.00s\n",
            "      Iter       Train Loss   Remaining Time \n",
            "         1           1.3765            0.61s\n",
            "         2           1.3694            0.57s\n",
            "         3           1.3628            0.55s\n",
            "         4           1.3570            0.50s\n",
            "         5           1.3516            0.46s\n",
            "         6           1.3465            0.43s\n",
            "         7           1.3419            0.40s\n",
            "         8           1.3371            0.37s\n",
            "         9           1.3332            0.34s\n",
            "        10           1.3290            0.31s\n",
            "        11           1.3253            0.28s\n",
            "        12           1.3214            0.25s\n",
            "        13           1.3176            0.22s\n",
            "        14           1.3137            0.19s\n",
            "        15           1.3105            0.15s\n",
            "        16           1.3075            0.12s\n",
            "        17           1.3046            0.09s\n",
            "        18           1.3016            0.06s\n",
            "        19           1.2982            0.03s\n",
            "        20           1.2951            0.00s\n",
            "      Iter       Train Loss   Remaining Time \n",
            "         1           1.3759            0.64s\n",
            "         2           1.3680            0.58s\n",
            "         3           1.3613            0.55s\n",
            "         4           1.3555            0.54s\n",
            "         5           1.3499            0.50s\n",
            "         6           1.3448            0.46s\n",
            "         7           1.3400            0.43s\n",
            "         8           1.3358            0.39s\n",
            "         9           1.3315            0.35s\n",
            "        10           1.3273            0.32s\n",
            "        11           1.3236            0.28s\n",
            "        12           1.3203            0.25s\n",
            "        13           1.3167            0.22s\n",
            "        14           1.3133            0.19s\n",
            "        15           1.3096            0.16s\n",
            "        16           1.3060            0.13s\n",
            "        17           1.3032            0.09s\n",
            "        18           1.3001            0.06s\n",
            "        19           1.2975            0.03s\n",
            "        20           1.2950            0.00s\n",
            "      Iter       Train Loss   Remaining Time \n",
            "         1           1.3753            0.64s\n",
            "         2           1.3682            0.59s\n",
            "         3           1.3619            0.55s\n",
            "         4           1.3560            0.51s\n",
            "         5           1.3511            0.47s\n",
            "         6           1.3466            0.43s\n",
            "         7           1.3423            0.41s\n",
            "         8           1.3383            0.37s\n",
            "         9           1.3338            0.34s\n",
            "        10           1.3298            0.31s\n",
            "        11           1.3264            0.28s\n",
            "        12           1.3227            0.25s\n",
            "        13           1.3192            0.21s\n",
            "        14           1.3155            0.18s\n",
            "        15           1.3120            0.15s\n",
            "        16           1.3088            0.12s\n",
            "        17           1.3059            0.09s\n",
            "        18           1.3031            0.06s\n",
            "        19           1.2996            0.03s\n",
            "        20           1.2970            0.00s\n",
            "      Iter       Train Loss   Remaining Time \n",
            "         1           1.3762            0.73s\n",
            "         2           1.3688            0.63s\n",
            "         3           1.3621            0.57s\n",
            "         4           1.3567            0.54s\n",
            "         5           1.3511            0.50s\n",
            "         6           1.3463            0.46s\n",
            "         7           1.3421            0.43s\n",
            "         8           1.3378            0.39s\n",
            "         9           1.3336            0.36s\n",
            "        10           1.3301            0.32s\n",
            "        11           1.3265            0.29s\n",
            "        12           1.3227            0.25s\n",
            "        13           1.3195            0.22s\n",
            "        14           1.3159            0.19s\n",
            "        15           1.3130            0.16s\n",
            "        16           1.3098            0.12s\n",
            "        17           1.3073            0.09s\n",
            "        18           1.3036            0.06s\n",
            "        19           1.3007            0.03s\n",
            "        20           1.2981            0.00s\n",
            "      Iter       Train Loss   Remaining Time \n",
            "         1           1.3758            0.67s\n",
            "         2           1.3683            0.60s\n",
            "         3           1.3621            0.55s\n",
            "         4           1.3564            0.52s\n",
            "         5           1.3512            0.49s\n",
            "         6           1.3465            0.46s\n",
            "         7           1.3418            0.43s\n",
            "         8           1.3377            0.39s\n",
            "         9           1.3340            0.35s\n",
            "        10           1.3301            0.32s\n",
            "        11           1.3262            0.29s\n",
            "        12           1.3228            0.26s\n",
            "        13           1.3193            0.22s\n",
            "        14           1.3158            0.19s\n",
            "        15           1.3128            0.16s\n",
            "        16           1.3100            0.13s\n",
            "        17           1.3066            0.10s\n",
            "        18           1.3035            0.06s\n",
            "        19           1.3007            0.03s\n",
            "        20           1.2978            0.00s\n",
            "      Iter       Train Loss   Remaining Time \n",
            "         1           1.3768            0.63s\n",
            "         2           1.3696            0.58s\n",
            "         3           1.3636            0.55s\n",
            "         4           1.3582            0.51s\n",
            "         5           1.3525            0.47s\n",
            "         6           1.3480            0.44s\n",
            "         7           1.3433            0.41s\n",
            "         8           1.3388            0.38s\n",
            "         9           1.3348            0.34s\n",
            "        10           1.3311            0.31s\n",
            "        11           1.3276            0.28s\n",
            "        12           1.3239            0.25s\n",
            "        13           1.3203            0.22s\n",
            "        14           1.3167            0.19s\n",
            "        15           1.3129            0.16s\n",
            "        16           1.3095            0.13s\n",
            "        17           1.3064            0.09s\n",
            "        18           1.3039            0.06s\n",
            "        19           1.3006            0.03s\n",
            "        20           1.2978            0.00s\n",
            "      Iter       Train Loss   Remaining Time \n",
            "         1           1.3765            0.66s\n",
            "         2           1.3693            0.60s\n",
            "         3           1.3632            0.57s\n",
            "         4           1.3575            0.53s\n",
            "         5           1.3519            0.48s\n",
            "         6           1.3471            0.44s\n",
            "         7           1.3427            0.41s\n",
            "         8           1.3386            0.38s\n",
            "         9           1.3344            0.34s\n",
            "        10           1.3309            0.31s\n",
            "        11           1.3273            0.28s\n",
            "        12           1.3239            0.25s\n",
            "        13           1.3206            0.21s\n",
            "        14           1.3173            0.18s\n",
            "        15           1.3142            0.15s\n",
            "        16           1.3108            0.12s\n",
            "        17           1.3074            0.09s\n",
            "        18           1.3038            0.06s\n",
            "        19           1.3008            0.03s\n",
            "        20           1.2980            0.00s\n"
          ],
          "name": "stdout"
        }
      ]
    },
    {
      "cell_type": "code",
      "metadata": {
        "id": "Vv1F4eFVxsBa",
        "colab": {
          "base_uri": "https://localhost:8080/"
        },
        "outputId": "90c4ee33-87fe-454b-d6d4-af2a3679f094"
      },
      "source": [
        "#Evaluation of XG Boost::\n",
        "my_final = XGB_algorithm.predict(test_data['Text'])\n",
        "print(' Accuracy of XG Boost :', (accuracy_score(test_data['Review'], my_final)*100))\n",
        "print('Recall of XG Boost :', (recall_score(test_data['Review'], my_final)*100))\n",
        "print(' Precision of XG Boost :', (accuracy_score(test_data['Review'], my_final)*100))\n",
        "print('F1-score of XG Boost :', (f1_score(test_data['Review'], my_final, average='macro')*100))\n"
      ],
      "execution_count": 18,
      "outputs": [
        {
          "output_type": "stream",
          "text": [
            " Accuracy of XG Boost : 59.637561779242176\n",
            "Recall of XG Boost : 86.24862486248624\n",
            " Precision of XG Boost : 59.637561779242176\n",
            "F1-score of XG Boost : 56.59669807573133\n"
          ],
          "name": "stdout"
        }
      ]
    }
  ]
}