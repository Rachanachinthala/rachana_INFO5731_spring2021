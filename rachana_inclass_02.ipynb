{
 "cells": [
  {
   "cell_type": "markdown",
   "metadata": {
    "colab_type": "text",
    "id": "view-in-github"
   },
   "source": [
    "<a href=\"https://colab.research.google.com/github/unt-iialab/INFO5731_Spring2020/blob/master/In_class_exercise/In_class_exercise_02.ipynb\" target=\"_parent\"><img src=\"https://colab.research.google.com/assets/colab-badge.svg\" alt=\"Open In Colab\"/></a>"
   ]
  },
  {
   "cell_type": "markdown",
   "metadata": {
    "colab_type": "text",
    "id": "oo5bsEh2eeWi"
   },
   "source": [
    "# **The second In-class-exercise (1/27/2021, 20 points in total)**\n"
   ]
  },
  {
   "cell_type": "markdown",
   "metadata": {
    "colab_type": "text",
    "id": "2sPQ58dIeqgp"
   },
   "source": [
    "(1) Write a Python program to find the duplicate elements in a given array of integers. Return -1 If there are no such elements. (4 points)"
   ]
  },
  {
   "cell_type": "code",
   "execution_count": 10,
   "metadata": {
    "colab": {},
    "colab_type": "code",
    "id": "mnrvKMFTeoJR"
   },
   "outputs": [
    {
     "name": "stdout",
     "output_type": "stream",
     "text": [
      "[1 2 3 4 4 5]\n",
      "duplicate elements:\n",
      "4\n"
     ]
    }
   ],
   "source": [
    "# write your answer here\n",
    "import numpy as np\n",
    "\n",
    "myarray = np.array([1, 2, 3, 4, 4, 5])# defining an array\n",
    "\n",
    "print(myarray)#prints array\n",
    "if len(myarray)==len(set(myarray)): #set gives unique values. if length of array and set of the same \n",
    "    #array is same then there are no duplicates\n",
    "  print(-1)\n",
    "else:\n",
    "\n",
    "  for i in range(0, len(myarray)):# ietrates through array\n",
    "    for j in range(i+1, len(myarray)):\n",
    "      if(myarray[i] == myarray[j]):\n",
    "            print(\"duplicate elements:\");  \n",
    "            print(myarray[j]);\n",
    "\n",
    "\n"
   ]
  },
  {
   "cell_type": "markdown",
   "metadata": {
    "colab_type": "text",
    "id": "YYrH6n6IhZoQ"
   },
   "source": [
    "(2) Write a Python program to select all the Sundays of a specified year. (4 points)\n",
    "\n"
   ]
  },
  {
   "cell_type": "code",
   "execution_count": 18,
   "metadata": {
    "colab": {},
    "colab_type": "code",
    "id": "OSfPLd23eLpX"
   },
   "outputs": [
    {
     "name": "stdout",
     "output_type": "stream",
     "text": [
      "1997-01-05\n",
      "1997-01-12\n",
      "1997-01-19\n",
      "1997-01-26\n",
      "1997-02-02\n",
      "1997-02-09\n",
      "1997-02-16\n",
      "1997-02-23\n",
      "1997-03-02\n",
      "1997-03-09\n",
      "1997-03-16\n",
      "1997-03-23\n",
      "1997-03-30\n",
      "1997-04-06\n",
      "1997-04-13\n",
      "1997-04-20\n",
      "1997-04-27\n",
      "1997-05-04\n",
      "1997-05-11\n",
      "1997-05-18\n",
      "1997-05-25\n",
      "1997-06-01\n",
      "1997-06-08\n",
      "1997-06-15\n",
      "1997-06-22\n",
      "1997-06-29\n",
      "1997-07-06\n",
      "1997-07-13\n",
      "1997-07-20\n",
      "1997-07-27\n",
      "1997-08-03\n",
      "1997-08-10\n",
      "1997-08-17\n",
      "1997-08-24\n",
      "1997-08-31\n",
      "1997-09-07\n",
      "1997-09-14\n",
      "1997-09-21\n",
      "1997-09-28\n",
      "1997-10-05\n",
      "1997-10-12\n",
      "1997-10-19\n",
      "1997-10-26\n",
      "1997-11-02\n",
      "1997-11-09\n",
      "1997-11-16\n",
      "1997-11-23\n",
      "1997-11-30\n",
      "1997-12-07\n",
      "1997-12-14\n",
      "1997-12-21\n",
      "1997-12-28\n"
     ]
    }
   ],
   "source": [
    "# write your answer here\n",
    "# write your answer here\n",
    "from datetime import date, timedelta\n",
    "\n",
    "def all_sundays(year):\n",
    "# January 1st of the given year\n",
    "       dt = date(year, 1, 1)\n",
    "# First Sunday of the given year       \n",
    "       dt += timedelta(days = 6 - dt.weekday())  \n",
    "       while dt.year == year:\n",
    "          yield dt #gives date which would be sunday\n",
    "          dt += timedelta(days = 7)\n",
    "          \n",
    "for sunday in all_sundays(1997):#iterates throughs all sunday dates\n",
    "   print(sunday)"
   ]
  },
  {
   "cell_type": "markdown",
   "metadata": {
    "colab_type": "text",
    "id": "UIpziZ6Sjie-"
   },
   "source": [
    "(3) Python files reading and writing. Download the “[exercise_02_data _collection.zip](https://github.com/unt-iialab/info5731_spring2021/blob/main/class_exercises/exercise_02_data_collection.zip)” to your local and un-zip it.\n",
    "\n",
    "*   Write a program to read all the txt files and save the sentences in all the files into one csv file with two columns, the first column is sentence id (txt file name+sentence line number), the second column is the sentence text content. (4 points)\n",
    "*   Remove all the punctuations from the sentences, save the processed sentences into a new column in the same csv file. (4 points)\n",
    "*   Ask the user to enter a word, return all the sentences that include this word, three kinds of information should be returned: sentence id, sentence text content, the count that user input word appear in the sentence. (4 points)\n",
    "\n"
   ]
  },
  {
   "cell_type": "code",
   "execution_count": 3,
   "metadata": {
    "colab": {},
    "colab_type": "code",
    "id": "f3CUsrWOj1Xy"
   },
   "outputs": [
    {
     "name": "stdout",
     "output_type": "stream",
     "text": [
      "           sentence_id                                           sentence\n",
      "0    ARTHROTEC.1.txt-0  I feel a bit drowsy & have a little blurred vi...\n",
      "0    ARTHROTEC.1.txt-1  I've been on Arthrotec 50 for over 10 years on...\n",
      "0    ARTHROTEC.1.txt-2  Due to my arthritis getting progressively wors...\n",
      "0    ARTHROTEC.1.txt-3  every day for the next month to see how I get ...\n",
      "0    ARTHROTEC.1.txt-4  So far its been very good, pains almost gone, ...\n",
      "..                 ...                                                ...\n",
      "0   ARTHROTEC.99.txt-1                         almost to faint to notice.\n",
      "0   ARTHROTEC.99.txt-2  However, I also get diarrhoea at least twice a...\n",
      "0   ARTHROTEC.99.txt-3  There are no gas pains and no other symptoms, ...\n",
      "0   ARTHROTEC.99.txt-4  When I am on holiday at the coast I am pain fr...\n",
      "0   ARTHROTEC.99.txt-5                        It also allows me to sleep.\n",
      "\n",
      "[535 rows x 2 columns]\n"
     ]
    }
   ],
   "source": [
    "# write your answer here\n",
    "import os\n",
    "import re\n",
    "import csv\n",
    "import pandas\n",
    "\n",
    "basepath = r'C:\\Users\\racha\\exercise_02_data_collection' #path for the original txt files\n",
    "targetfile = 'processed_file.csv'#this will be the output\n",
    "if os.path.exists(targetfile):\n",
    "    os.remove(targetfile)\n",
    "df = pandas.DataFrame()\n",
    "\n",
    "with os.scandir(basepath) as entries:\n",
    "    for entry in entries:\n",
    "        with open(entry) as file:\n",
    "            for i, line in enumerate(file):\n",
    "                a = entry.name + '-' + str(i)\n",
    "                data=pandas.DataFrame([[a,line.strip('\\n')]])\n",
    "                df=df.append(data)\n",
    "df.columns=['sentence_id','sentence']#defining column names\n",
    "print(df)#prints the final file\n",
    "df.to_csv(targetfile, mode='a', encoding='utf-8', index=False)"
   ]
  },
  {
   "cell_type": "code",
   "execution_count": 4,
   "metadata": {},
   "outputs": [
    {
     "name": "stdout",
     "output_type": "stream",
     "text": [
      "           Sentence_id                                      sentence_text  \\\n",
      "0    ARTHROTEC.1.txt-0  I feel a bit drowsy & have a little blurred vi...   \n",
      "0    ARTHROTEC.1.txt-1  I've been on Arthrotec 50 for over 10 years on...   \n",
      "0    ARTHROTEC.1.txt-2  Due to my arthritis getting progressively wors...   \n",
      "0    ARTHROTEC.1.txt-3  every day for the next month to see how I get ...   \n",
      "0    ARTHROTEC.1.txt-4  So far its been very good, pains almost gone, ...   \n",
      "..                 ...                                                ...   \n",
      "0   ARTHROTEC.99.txt-1                         almost to faint to notice.   \n",
      "0   ARTHROTEC.99.txt-2  However, I also get diarrhoea at least twice a...   \n",
      "0   ARTHROTEC.99.txt-3  There are no gas pains and no other symptoms, ...   \n",
      "0   ARTHROTEC.99.txt-4  When I am on holiday at the coast I am pain fr...   \n",
      "0   ARTHROTEC.99.txt-5                        It also allows me to sleep.   \n",
      "\n",
      "                                         Sentence_new  \n",
      "0   I feel a bit drowsy  have a little blurred vis...  \n",
      "0   Ive been on Arthrotec 50 for over 10 years on ...  \n",
      "0   Due to my arthritis getting progressively wors...  \n",
      "0   every day for the next month to see how I get ...  \n",
      "0   So far its been very good pains almost gone bu...  \n",
      "..                                                ...  \n",
      "0                         almost to faint to notice\\n  \n",
      "0   However I also get diarrhoea at least twice a ...  \n",
      "0   There are no gas pains and no other symptoms s...  \n",
      "0   When I am on holiday at the coast I am pain fr...  \n",
      "0                        It also allows me to sleep\\n  \n",
      "\n",
      "[535 rows x 3 columns]\n"
     ]
    }
   ],
   "source": [
    "import os\n",
    "import re\n",
    "import csv\n",
    "import pandas\n",
    "\n",
    "basepath = r'C:\\Users\\racha\\exercise_02_data_collection'\n",
    "targetfile = 'processed_file.csv'\n",
    "if os.path.exists(targetfile):\n",
    "    os.remove(targetfile)\n",
    "df = pandas.DataFrame()\n",
    "\n",
    "\n",
    "with os.scandir(basepath) as entries:\n",
    "    for entry in entries:\n",
    "        with open(entry) as file:\n",
    "            for i, line in enumerate(file):\n",
    "                rempunc = re.sub(r'[^\\w\\s]','', line)\n",
    "                a = entry.name + '-' + str(i)\n",
    "                data=pandas.DataFrame([[a,line.strip('\\n'),rempunc]])\n",
    "                df=df.append(data)\n",
    "df.columns=['Sentence_id','sentence_text','Sentence_new']\n",
    "print(df)\n",
    "df.to_csv(targetfile, mode='a', encoding='utf-8', index=False)"
   ]
  },
  {
   "cell_type": "code",
   "execution_count": 10,
   "metadata": {},
   "outputs": [
    {
     "name": "stdout",
     "output_type": "stream",
     "text": [
      "Enter a word to search :feel\n",
      "           Sentence_id                                      sentence_text  \\\n",
      "0    ARTHROTEC.1.txt-0  I feel a bit drowsy & have a little blurred vi...   \n",
      "0    ARTHROTEC.1.txt-4  So far its been very good, pains almost gone, ...   \n",
      "0   ARTHROTEC.13.txt-1            false full feeling, very poor appetite.   \n",
      "0   ARTHROTEC.17.txt-6  i'm also starting to feel dizzy and light head...   \n",
      "0   ARTHROTEC.18.txt-5  honestly never thought I would feel that way a...   \n",
      "0    ARTHROTEC.2.txt-0  heartburn, nausea, frequent feelings of voraci...   \n",
      "0   ARTHROTEC.28.txt-0     Anxiety and the feeling I was bleeding inside.   \n",
      "0   ARTHROTEC.28.txt-1  Sudden feelings of cramp like being punched in...   \n",
      "0   ARTHROTEC.28.txt-2  A general 'scared' feeling and sitting very st...   \n",
      "0  ARTHROTEC.30.txt-16  I feel that I have become dependent on this me...   \n",
      "0   ARTHROTEC.32.txt-0  the first pill i took it caused severe abdomin...   \n",
      "0   ARTHROTEC.33.txt-0  just starting to feel tired this week after 3 ...   \n",
      "0   ARTHROTEC.41.txt-0  Dizziness, sickness, stomach gas, feel like a ...   \n",
      "0   ARTHROTEC.41.txt-1  Hadn't realised it was related until I read th...   \n",
      "0   ARTHROTEC.41.txt-4  I've tried it for a week but it makes me feel ...   \n",
      "0   ARTHROTEC.41.txt-5  Every time I stand up I have to hold onto some...   \n",
      "0   ARTHROTEC.45.txt-0  Has been all OK until recently when I started ...   \n",
      "0   ARTHROTEC.45.txt-4             fluey feelings returned within a hour.   \n",
      "0   ARTHROTEC.47.txt-0  after taking just one dose, had hunger feeling...   \n",
      "0   ARTHROTEC.47.txt-1  I just went for test and haven't gotten result...   \n",
      "0   ARTHROTEC.48.txt-4  i am in need of a knee replacement, but in mea...   \n",
      "0   ARTHROTEC.52.txt-3  After half an hour it passed, but its been a d...   \n",
      "0   ARTHROTEC.56.txt-2  been off this pill for two days now and still ...   \n",
      "0   ARTHROTEC.56.txt-3  hoping cramps stop soon can't stand feeling si...   \n",
      "0   ARTHROTEC.68.txt-0  For the first 8 days of ever taking it, the on...   \n",
      "0   ARTHROTEC.68.txt-1  After 8 days, the feeling elevated to an annoy...   \n",
      "0   ARTHROTEC.76.txt-0  swelling, bloating, increased appetite, empty ...   \n",
      "0   ARTHROTEC.79.txt-6                I feel it has a cummulative effect.   \n",
      "0   ARTHROTEC.80.txt-0  abdominal pain, constant soreness in abdomen, ...   \n",
      "0   ARTHROTEC.88.txt-2                               My arm feels better.   \n",
      "0   ARTHROTEC.89.txt-2  My back does feel better, not 100% OK, but pro...   \n",
      "\n",
      "   count  \n",
      "0      1  \n",
      "0      1  \n",
      "0      1  \n",
      "0      2  \n",
      "0      1  \n",
      "0      1  \n",
      "0      1  \n",
      "0      1  \n",
      "0      1  \n",
      "0      1  \n",
      "0      1  \n",
      "0      1  \n",
      "0      1  \n",
      "0      1  \n",
      "0      1  \n",
      "0      2  \n",
      "0      1  \n",
      "0      1  \n",
      "0      1  \n",
      "0      1  \n",
      "0      1  \n",
      "0      1  \n",
      "0      1  \n",
      "0      1  \n",
      "0      1  \n",
      "0      1  \n",
      "0      1  \n",
      "0      1  \n",
      "0      1  \n",
      "0      1  \n",
      "0      1  \n"
     ]
    }
   ],
   "source": [
    "import os\n",
    "import pandas\n",
    "\n",
    "basepath = r'C:\\Users\\racha\\exercise_02_data_collection'\n",
    "df = pandas.DataFrame()\n",
    "pattern=input('Enter a word to search :')\n",
    "\n",
    "with os.scandir(basepath) as entries:\n",
    "    for entry in entries:\n",
    "        with open(entry) as file:\n",
    "            for i, line in enumerate(file):\n",
    "                a = entry.name + '-' + str(i)\n",
    "                data=pandas.DataFrame([[a,line.strip('\\n')]])\n",
    "                df=df.append(data)\n",
    "df.columns=['Sentence_id','sentence_text']\n",
    "df[\"count\"]=df[\"sentence_text\"].str.count(pattern)\n",
    "df1=df[df[\"sentence_text\"].str.contains(pattern)]\n",
    "if df1.empty:\n",
    "    print(\"Key word entered not found\")\n",
    "else:\n",
    "    print(df1)"
   ]
  },
  {
   "cell_type": "code",
   "execution_count": null,
   "metadata": {},
   "outputs": [],
   "source": []
  },
  {
   "cell_type": "markdown",
   "metadata": {
    "colab_type": "text",
    "id": "-12cqmJEpZOh"
   },
   "source": [
    "(4) Install packages nltk, numpy, scipy, pandas, and sklearn on Google Colab. Write a program to test whether they are installed successfully. (3 points for extra)"
   ]
  },
  {
   "cell_type": "code",
   "execution_count": 17,
   "metadata": {
    "colab": {},
    "colab_type": "code",
    "id": "f1pn1Zl2qK77"
   },
   "outputs": [
    {
     "name": "stdout",
     "output_type": "stream",
     "text": [
      "Requirement already satisfied: nltk in c:\\users\\racha\\.conda\\lib\\site-packages (3.5)\n",
      "Requirement already satisfied: joblib in c:\\users\\racha\\.conda\\lib\\site-packages (from nltk) (0.16.0)\n",
      "Requirement already satisfied: tqdm in c:\\users\\racha\\.conda\\lib\\site-packages (from nltk) (4.47.0)\n",
      "Requirement already satisfied: click in c:\\users\\racha\\.conda\\lib\\site-packages (from nltk) (7.1.2)\n",
      "Requirement already satisfied: regex in c:\\users\\racha\\.conda\\lib\\site-packages (from nltk) (2020.6.8)\n",
      "Requirement already satisfied: numpy in c:\\users\\racha\\.conda\\lib\\site-packages (1.18.5)\n",
      "Requirement already satisfied: scipy in c:\\users\\racha\\.conda\\lib\\site-packages (1.5.0)\n",
      "Requirement already satisfied: numpy>=1.14.5 in c:\\users\\racha\\.conda\\lib\\site-packages (from scipy) (1.18.5)\n",
      "Requirement already satisfied: pandas in c:\\users\\racha\\.conda\\lib\\site-packages (1.0.5)\n",
      "Requirement already satisfied: python-dateutil>=2.6.1 in c:\\users\\racha\\.conda\\lib\\site-packages (from pandas) (2.8.1)\n",
      "Requirement already satisfied: pytz>=2017.2 in c:\\users\\racha\\.conda\\lib\\site-packages (from pandas) (2020.1)\n",
      "Requirement already satisfied: numpy>=1.13.3 in c:\\users\\racha\\.conda\\lib\\site-packages (from pandas) (1.18.5)\n",
      "Requirement already satisfied: six>=1.5 in c:\\users\\racha\\.conda\\lib\\site-packages (from python-dateutil>=2.6.1->pandas) (1.15.0)\n",
      "Requirement already satisfied: sklearn in c:\\users\\racha\\.conda\\lib\\site-packages (0.0)\n",
      "Requirement already satisfied: scikit-learn in c:\\users\\racha\\.conda\\lib\\site-packages (from sklearn) (0.23.1)\n",
      "Requirement already satisfied: threadpoolctl>=2.0.0 in c:\\users\\racha\\.conda\\lib\\site-packages (from scikit-learn->sklearn) (2.1.0)\n",
      "Requirement already satisfied: joblib>=0.11 in c:\\users\\racha\\.conda\\lib\\site-packages (from scikit-learn->sklearn) (0.16.0)\n",
      "Requirement already satisfied: numpy>=1.13.3 in c:\\users\\racha\\.conda\\lib\\site-packages (from scikit-learn->sklearn) (1.18.5)\n",
      "Requirement already satisfied: scipy>=0.19.1 in c:\\users\\racha\\.conda\\lib\\site-packages (from scikit-learn->sklearn) (1.5.0)\n",
      "Name: nltk\n",
      "Version: 3.5\n",
      "Summary: Natural Language Toolkit\n",
      "Home-page: http://nltk.org/\n",
      "Author: Steven Bird\n",
      "Author-email: stevenbird1@gmail.com\n",
      "License: Apache License, Version 2.0\n",
      "Location: c:\\users\\racha\\.conda\\lib\\site-packages\n",
      "Requires: joblib, regex, click, tqdm\n",
      "Required-by: \n",
      "Name: numpy\n",
      "Version: 1.18.5\n",
      "Summary: NumPy is the fundamental package for array computing with Python.\n",
      "Home-page: https://www.numpy.org\n",
      "Author: Travis E. Oliphant et al.\n",
      "Author-email: None\n",
      "License: BSD\n",
      "Location: c:\\users\\racha\\.conda\\lib\\site-packages\n",
      "Requires: \n",
      "Required-by: tables, statsmodels, seaborn, scipy, scikit-learn, PyWavelets, patsy, pandas, numexpr, numba, mkl-random, mkl-fft, matplotlib, imageio, h5py, Bottleneck, bokeh, bkcharts, astropy\n",
      "Name: scipy\n",
      "Version: 1.5.0\n",
      "Summary: SciPy: Scientific Library for Python\n",
      "Home-page: https://www.scipy.org\n",
      "Author: None\n",
      "Author-email: None\n",
      "License: BSD\n",
      "Location: c:\\users\\racha\\.conda\\lib\\site-packages\n",
      "Requires: numpy\n",
      "Required-by: statsmodels, seaborn, scikit-learn, scikit-image\n",
      "Name: pandas\n",
      "Version: 1.0.5\n",
      "Summary: Powerful data structures for data analysis, time series, and statistics\n",
      "Home-page: https://pandas.pydata.org\n",
      "Author: None\n",
      "Author-email: None\n",
      "License: BSD\n",
      "Location: c:\\users\\racha\\.conda\\lib\\site-packages\n",
      "Requires: pytz, python-dateutil, numpy\n",
      "Required-by: statsmodels, seaborn\n",
      "Name: sklearn\n",
      "Version: 0.0\n",
      "Summary: A set of python modules for machine learning and data mining\n",
      "Home-page: https://pypi.python.org/pypi/scikit-learn/\n",
      "Author: UNKNOWN\n",
      "Author-email: UNKNOWN\n",
      "License: None\n",
      "Location: c:\\users\\racha\\.conda\\lib\\site-packages\n",
      "Requires: scikit-learn\n",
      "Required-by: \n"
     ]
    }
   ],
   "source": [
    "# write your answer here\n",
    "\n",
    "!pip3 install nltk\n",
    "!pip3 install numpy\n",
    "!pip3 install scipy\n",
    "!pip3 install pandas\n",
    "!pip3 install sklearn\n",
    "\n",
    "!pip3 show nltk\n",
    "!pip3 show numpy\n",
    "!pip3 show scipy\n",
    "!pip3 show pandas\n",
    "!pip3 show sklearn\n",
    "\n",
    "\n",
    "\n"
   ]
  },
  {
   "cell_type": "code",
   "execution_count": null,
   "metadata": {},
   "outputs": [],
   "source": []
  }
 ],
 "metadata": {
  "colab": {
   "authorship_tag": "ABX9TyO+tpE40PgxRU/8NgGfGYzw",
   "collapsed_sections": [],
   "include_colab_link": true,
   "name": "In_class_exercise_02.ipynb",
   "provenance": []
  },
  "kernelspec": {
   "display_name": "Python 3",
   "language": "python",
   "name": "python3"
  },
  "language_info": {
   "codemirror_mode": {
    "name": "ipython",
    "version": 3
   },
   "file_extension": ".py",
   "mimetype": "text/x-python",
   "name": "python",
   "nbconvert_exporter": "python",
   "pygments_lexer": "ipython3",
   "version": "3.7.6"
  }
 },
 "nbformat": 4,
 "nbformat_minor": 1
}
